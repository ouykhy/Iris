{
 "cells": [
  {
   "cell_type": "code",
   "execution_count": 26,
   "id": "15af1e4e",
   "metadata": {},
   "outputs": [],
   "source": [
    "import pytest\n",
    "from fastapi.testclient import TestClient\n",
    "import sys\n",
    "sys.path.append('C:/Users/oquach/Documents/OpenClassRoom/Iris/app')\n",
    "from main import app"
   ]
  },
  {
   "cell_type": "code",
   "execution_count": 27,
   "id": "57ae4ca4",
   "metadata": {},
   "outputs": [],
   "source": [
    "client = TestClient(app)"
   ]
  },
  {
   "cell_type": "code",
   "execution_count": 30,
   "id": "0b0d82be",
   "metadata": {},
   "outputs": [],
   "source": [
    "def test_root():\n",
    "    res = client.get(\"/\")\n",
    "    assert res.status_code == 200\n",
    "    assert \"API is running\" in res.json()[\"message\"]\n",
    "\n",
    "def test_predict():\n",
    "    #payload = {\"data\": [[5.1, 3.5, 1.4, 0.2]]}\n",
    "    payload = [[5.1, 3.5, 1.4, 0.2]]\n",
    "    res = client.post(\"/predict\", json=payload)\n",
    "    assert res.status_code == 200\n",
    "    assert \"predictions\" in res.json()"
   ]
  }
 ],
 "metadata": {
  "kernelspec": {
   "display_name": "Iris Poetry Environment",
   "language": "python",
   "name": "poetry-env"
  },
  "language_info": {
   "codemirror_mode": {
    "name": "ipython",
    "version": 3
   },
   "file_extension": ".py",
   "mimetype": "text/x-python",
   "name": "python",
   "nbconvert_exporter": "python",
   "pygments_lexer": "ipython3",
   "version": "3.11.5"
  }
 },
 "nbformat": 4,
 "nbformat_minor": 5
}
