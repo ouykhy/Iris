{
 "cells": [
  {
   "cell_type": "code",
   "execution_count": 4,
   "id": "fd51945d",
   "metadata": {},
   "outputs": [
    {
     "name": "stdout",
     "output_type": "stream",
     "text": [
      "Collecting streamlit\n",
      "  Downloading streamlit-1.41.1-py2.py3-none-any.whl.metadata (8.5 kB)\n",
      "Collecting altair<6,>=4.0 (from streamlit)\n",
      "  Downloading altair-5.5.0-py3-none-any.whl.metadata (11 kB)\n",
      "Requirement already satisfied: blinker<2,>=1.0.0 in c:\\users\\oquach\\appdata\\local\\pypoetry\\cache\\virtualenvs\\testing_iris-ndqqnela-py3.11\\lib\\site-packages (from streamlit) (1.9.0)\n",
      "Requirement already satisfied: cachetools<6,>=4.0 in c:\\users\\oquach\\appdata\\local\\pypoetry\\cache\\virtualenvs\\testing_iris-ndqqnela-py3.11\\lib\\site-packages (from streamlit) (5.5.0)\n",
      "Requirement already satisfied: click<9,>=7.0 in c:\\users\\oquach\\appdata\\local\\pypoetry\\cache\\virtualenvs\\testing_iris-ndqqnela-py3.11\\lib\\site-packages (from streamlit) (8.1.7)\n",
      "Requirement already satisfied: numpy<3,>=1.23 in c:\\users\\oquach\\appdata\\local\\pypoetry\\cache\\virtualenvs\\testing_iris-ndqqnela-py3.11\\lib\\site-packages (from streamlit) (2.2.0)\n",
      "Requirement already satisfied: packaging<25,>=20 in c:\\users\\oquach\\appdata\\local\\pypoetry\\cache\\virtualenvs\\testing_iris-ndqqnela-py3.11\\lib\\site-packages (from streamlit) (24.2)\n",
      "Requirement already satisfied: pandas<3,>=1.4.0 in c:\\users\\oquach\\appdata\\local\\pypoetry\\cache\\virtualenvs\\testing_iris-ndqqnela-py3.11\\lib\\site-packages (from streamlit) (2.2.3)\n",
      "Requirement already satisfied: pillow<12,>=7.1.0 in c:\\users\\oquach\\appdata\\local\\pypoetry\\cache\\virtualenvs\\testing_iris-ndqqnela-py3.11\\lib\\site-packages (from streamlit) (11.0.0)\n",
      "Requirement already satisfied: protobuf<6,>=3.20 in c:\\users\\oquach\\appdata\\local\\pypoetry\\cache\\virtualenvs\\testing_iris-ndqqnela-py3.11\\lib\\site-packages (from streamlit) (5.29.2)\n",
      "Requirement already satisfied: pyarrow>=7.0 in c:\\users\\oquach\\appdata\\local\\pypoetry\\cache\\virtualenvs\\testing_iris-ndqqnela-py3.11\\lib\\site-packages (from streamlit) (18.1.0)\n",
      "Requirement already satisfied: requests<3,>=2.27 in c:\\users\\oquach\\appdata\\local\\pypoetry\\cache\\virtualenvs\\testing_iris-ndqqnela-py3.11\\lib\\site-packages (from streamlit) (2.32.3)\n",
      "Collecting rich<14,>=10.14.0 (from streamlit)\n",
      "  Downloading rich-13.9.4-py3-none-any.whl.metadata (18 kB)\n",
      "Collecting tenacity<10,>=8.1.0 (from streamlit)\n",
      "  Downloading tenacity-9.0.0-py3-none-any.whl.metadata (1.2 kB)\n",
      "Collecting toml<2,>=0.10.1 (from streamlit)\n",
      "  Downloading toml-0.10.2-py2.py3-none-any.whl.metadata (7.1 kB)\n",
      "Requirement already satisfied: typing-extensions<5,>=4.3.0 in c:\\users\\oquach\\appdata\\local\\pypoetry\\cache\\virtualenvs\\testing_iris-ndqqnela-py3.11\\lib\\site-packages (from streamlit) (4.12.2)\n",
      "Collecting watchdog<7,>=2.1.5 (from streamlit)\n",
      "  Downloading watchdog-6.0.0-py3-none-win_amd64.whl.metadata (44 kB)\n",
      "     ---------------------------------------- 0.0/44.3 kB ? eta -:--:--\n",
      "     ---------------------------------------- 44.3/44.3 kB 2.1 MB/s eta 0:00:00\n",
      "Requirement already satisfied: gitpython!=3.1.19,<4,>=3.0.7 in c:\\users\\oquach\\appdata\\local\\pypoetry\\cache\\virtualenvs\\testing_iris-ndqqnela-py3.11\\lib\\site-packages (from streamlit) (3.1.43)\n",
      "Collecting pydeck<1,>=0.8.0b4 (from streamlit)\n",
      "  Downloading pydeck-0.9.1-py2.py3-none-any.whl.metadata (4.1 kB)\n",
      "Requirement already satisfied: tornado<7,>=6.0.3 in c:\\users\\oquach\\appdata\\local\\pypoetry\\cache\\virtualenvs\\testing_iris-ndqqnela-py3.11\\lib\\site-packages (from streamlit) (6.4.2)\n",
      "Requirement already satisfied: jinja2 in c:\\users\\oquach\\appdata\\local\\pypoetry\\cache\\virtualenvs\\testing_iris-ndqqnela-py3.11\\lib\\site-packages (from altair<6,>=4.0->streamlit) (3.1.4)\n",
      "Requirement already satisfied: jsonschema>=3.0 in c:\\users\\oquach\\appdata\\local\\pypoetry\\cache\\virtualenvs\\testing_iris-ndqqnela-py3.11\\lib\\site-packages (from altair<6,>=4.0->streamlit) (4.23.0)\n",
      "Collecting narwhals>=1.14.2 (from altair<6,>=4.0->streamlit)\n",
      "  Downloading narwhals-1.19.0-py3-none-any.whl.metadata (9.7 kB)\n",
      "Requirement already satisfied: colorama in c:\\users\\oquach\\appdata\\local\\pypoetry\\cache\\virtualenvs\\testing_iris-ndqqnela-py3.11\\lib\\site-packages (from click<9,>=7.0->streamlit) (0.4.6)\n",
      "Requirement already satisfied: gitdb<5,>=4.0.1 in c:\\users\\oquach\\appdata\\local\\pypoetry\\cache\\virtualenvs\\testing_iris-ndqqnela-py3.11\\lib\\site-packages (from gitpython!=3.1.19,<4,>=3.0.7->streamlit) (4.0.11)\n",
      "Requirement already satisfied: python-dateutil>=2.8.2 in c:\\users\\oquach\\appdata\\local\\pypoetry\\cache\\virtualenvs\\testing_iris-ndqqnela-py3.11\\lib\\site-packages (from pandas<3,>=1.4.0->streamlit) (2.9.0.post0)\n",
      "Requirement already satisfied: pytz>=2020.1 in c:\\users\\oquach\\appdata\\local\\pypoetry\\cache\\virtualenvs\\testing_iris-ndqqnela-py3.11\\lib\\site-packages (from pandas<3,>=1.4.0->streamlit) (2024.2)\n",
      "Requirement already satisfied: tzdata>=2022.7 in c:\\users\\oquach\\appdata\\local\\pypoetry\\cache\\virtualenvs\\testing_iris-ndqqnela-py3.11\\lib\\site-packages (from pandas<3,>=1.4.0->streamlit) (2024.2)\n",
      "Requirement already satisfied: charset-normalizer<4,>=2 in c:\\users\\oquach\\appdata\\local\\pypoetry\\cache\\virtualenvs\\testing_iris-ndqqnela-py3.11\\lib\\site-packages (from requests<3,>=2.27->streamlit) (3.4.0)\n",
      "Requirement already satisfied: idna<4,>=2.5 in c:\\users\\oquach\\appdata\\local\\pypoetry\\cache\\virtualenvs\\testing_iris-ndqqnela-py3.11\\lib\\site-packages (from requests<3,>=2.27->streamlit) (3.10)\n",
      "Requirement already satisfied: urllib3<3,>=1.21.1 in c:\\users\\oquach\\appdata\\local\\pypoetry\\cache\\virtualenvs\\testing_iris-ndqqnela-py3.11\\lib\\site-packages (from requests<3,>=2.27->streamlit) (2.2.3)\n",
      "Requirement already satisfied: certifi>=2017.4.17 in c:\\users\\oquach\\appdata\\local\\pypoetry\\cache\\virtualenvs\\testing_iris-ndqqnela-py3.11\\lib\\site-packages (from requests<3,>=2.27->streamlit) (2024.12.14)\n",
      "Collecting markdown-it-py>=2.2.0 (from rich<14,>=10.14.0->streamlit)\n",
      "  Downloading markdown_it_py-3.0.0-py3-none-any.whl.metadata (6.9 kB)\n",
      "Requirement already satisfied: pygments<3.0.0,>=2.13.0 in c:\\users\\oquach\\appdata\\local\\pypoetry\\cache\\virtualenvs\\testing_iris-ndqqnela-py3.11\\lib\\site-packages (from rich<14,>=10.14.0->streamlit) (2.18.0)\n",
      "Requirement already satisfied: smmap<6,>=3.0.1 in c:\\users\\oquach\\appdata\\local\\pypoetry\\cache\\virtualenvs\\testing_iris-ndqqnela-py3.11\\lib\\site-packages (from gitdb<5,>=4.0.1->gitpython!=3.1.19,<4,>=3.0.7->streamlit) (5.0.1)\n",
      "Requirement already satisfied: MarkupSafe>=2.0 in c:\\users\\oquach\\appdata\\local\\pypoetry\\cache\\virtualenvs\\testing_iris-ndqqnela-py3.11\\lib\\site-packages (from jinja2->altair<6,>=4.0->streamlit) (3.0.2)\n",
      "Requirement already satisfied: attrs>=22.2.0 in c:\\users\\oquach\\appdata\\local\\pypoetry\\cache\\virtualenvs\\testing_iris-ndqqnela-py3.11\\lib\\site-packages (from jsonschema>=3.0->altair<6,>=4.0->streamlit) (24.3.0)\n",
      "Requirement already satisfied: jsonschema-specifications>=2023.03.6 in c:\\users\\oquach\\appdata\\local\\pypoetry\\cache\\virtualenvs\\testing_iris-ndqqnela-py3.11\\lib\\site-packages (from jsonschema>=3.0->altair<6,>=4.0->streamlit) (2024.10.1)\n",
      "Requirement already satisfied: referencing>=0.28.4 in c:\\users\\oquach\\appdata\\local\\pypoetry\\cache\\virtualenvs\\testing_iris-ndqqnela-py3.11\\lib\\site-packages (from jsonschema>=3.0->altair<6,>=4.0->streamlit) (0.35.1)\n",
      "Requirement already satisfied: rpds-py>=0.7.1 in c:\\users\\oquach\\appdata\\local\\pypoetry\\cache\\virtualenvs\\testing_iris-ndqqnela-py3.11\\lib\\site-packages (from jsonschema>=3.0->altair<6,>=4.0->streamlit) (0.22.3)\n",
      "Collecting mdurl~=0.1 (from markdown-it-py>=2.2.0->rich<14,>=10.14.0->streamlit)\n",
      "  Downloading mdurl-0.1.2-py3-none-any.whl.metadata (1.6 kB)\n",
      "Requirement already satisfied: six>=1.5 in c:\\users\\oquach\\appdata\\local\\pypoetry\\cache\\virtualenvs\\testing_iris-ndqqnela-py3.11\\lib\\site-packages (from python-dateutil>=2.8.2->pandas<3,>=1.4.0->streamlit) (1.17.0)\n",
      "Downloading streamlit-1.41.1-py2.py3-none-any.whl (9.1 MB)\n",
      "   ---------------------------------------- 0.0/9.1 MB ? eta -:--:--\n",
      "   -- ------------------------------------- 0.6/9.1 MB 19.5 MB/s eta 0:00:01\n",
      "   ------- -------------------------------- 1.8/9.1 MB 22.6 MB/s eta 0:00:01\n",
      "   -------------- ------------------------- 3.4/9.1 MB 27.2 MB/s eta 0:00:01\n",
      "   -------------------- ------------------- 4.8/9.1 MB 30.4 MB/s eta 0:00:01\n",
      "   -------------------------- ------------- 6.1/9.1 MB 27.7 MB/s eta 0:00:01\n",
      "   ------------------------------------ --- 8.3/9.1 MB 33.1 MB/s eta 0:00:01\n",
      "   ---------------------------------------- 9.1/9.1 MB 30.6 MB/s eta 0:00:00\n",
      "Downloading altair-5.5.0-py3-none-any.whl (731 kB)\n",
      "   ---------------------------------------- 0.0/731.2 kB ? eta -:--:--\n",
      "   --------------------------------------- 731.2/731.2 kB 48.1 MB/s eta 0:00:00\n",
      "Downloading pydeck-0.9.1-py2.py3-none-any.whl (6.9 MB)\n",
      "   ---------------------------------------- 0.0/6.9 MB ? eta -:--:--\n",
      "   --------------------- ------------------ 3.6/6.9 MB 76.9 MB/s eta 0:00:01\n",
      "   ---------------------------------------  6.9/6.9 MB 88.2 MB/s eta 0:00:01\n",
      "   ---------------------------------------- 6.9/6.9 MB 73.3 MB/s eta 0:00:00\n",
      "Downloading rich-13.9.4-py3-none-any.whl (242 kB)\n",
      "   ---------------------------------------- 0.0/242.4 kB ? eta -:--:--\n",
      "   ---------------------------------------- 242.4/242.4 kB ? eta 0:00:00\n",
      "Downloading tenacity-9.0.0-py3-none-any.whl (28 kB)\n",
      "Downloading toml-0.10.2-py2.py3-none-any.whl (16 kB)\n",
      "Downloading watchdog-6.0.0-py3-none-win_amd64.whl (79 kB)\n",
      "   ---------------------------------------- 0.0/79.1 kB ? eta -:--:--\n",
      "   ---------------------------------------- 79.1/79.1 kB ? eta 0:00:00\n",
      "Downloading markdown_it_py-3.0.0-py3-none-any.whl (87 kB)\n",
      "   ---------------------------------------- 0.0/87.5 kB ? eta -:--:--\n",
      "   ---------------------------------------- 87.5/87.5 kB ? eta 0:00:00\n",
      "Downloading narwhals-1.19.0-py3-none-any.whl (256 kB)\n",
      "   ---------------------------------------- 0.0/256.4 kB ? eta -:--:--\n",
      "   --------------------------------------- 256.4/256.4 kB 15.4 MB/s eta 0:00:00\n",
      "Downloading mdurl-0.1.2-py3-none-any.whl (10.0 kB)\n",
      "Installing collected packages: watchdog, toml, tenacity, narwhals, mdurl, pydeck, markdown-it-py, rich, altair, streamlit\n",
      "Successfully installed altair-5.5.0 markdown-it-py-3.0.0 mdurl-0.1.2 narwhals-1.19.0 pydeck-0.9.1 rich-13.9.4 streamlit-1.41.1 tenacity-9.0.0 toml-0.10.2 watchdog-6.0.0\n",
      "Note: you may need to restart the kernel to use updated packages.\n"
     ]
    },
    {
     "name": "stderr",
     "output_type": "stream",
     "text": [
      "\n",
      "[notice] A new release of pip is available: 24.0 -> 24.3.1\n",
      "[notice] To update, run: C:\\Users\\oquach\\AppData\\Local\\pypoetry\\Cache\\virtualenvs\\testing_iris-NDqqneLa-py3.11\\Scripts\\python.exe -m pip install --upgrade pip\n"
     ]
    }
   ],
   "source": [
    "pip install streamlit"
   ]
  },
  {
   "cell_type": "code",
   "execution_count": 5,
   "id": "be07da45",
   "metadata": {},
   "outputs": [],
   "source": [
    "import streamlit as st\n",
    "import pickle\n",
    "import numpy as np"
   ]
  },
  {
   "cell_type": "code",
   "execution_count": 6,
   "id": "533512b4",
   "metadata": {},
   "outputs": [
    {
     "name": "stderr",
     "output_type": "stream",
     "text": [
      "2024-12-20 15:57:45.583 WARNING streamlit.runtime.scriptrunner_utils.script_run_context: Thread 'MainThread': missing ScriptRunContext! This warning can be ignored when running in bare mode.\n",
      "2024-12-20 15:57:45.950 \n",
      "  \u001b[33m\u001b[1mWarning:\u001b[0m to view this Streamlit app on a browser, run it with the following\n",
      "  command:\n",
      "\n",
      "    streamlit run C:\\Users\\oquach\\AppData\\Local\\pypoetry\\Cache\\virtualenvs\\testing_iris-NDqqneLa-py3.11\\Lib\\site-packages\\ipykernel_launcher.py [ARGUMENTS]\n",
      "2024-12-20 15:57:45.953 Thread 'MainThread': missing ScriptRunContext! This warning can be ignored when running in bare mode.\n"
     ]
    },
    {
     "data": {
      "text/plain": [
       "DeltaGenerator()"
      ]
     },
     "execution_count": 6,
     "metadata": {},
     "output_type": "execute_result"
    }
   ],
   "source": [
    "st.title(\"Iris Classification Demo\")"
   ]
  },
  {
   "cell_type": "code",
   "execution_count": 7,
   "id": "cf1253ab",
   "metadata": {},
   "outputs": [
    {
     "name": "stderr",
     "output_type": "stream",
     "text": [
      "2024-12-20 15:58:28.018 No runtime found, using MemoryCacheStorageManager\n"
     ]
    }
   ],
   "source": [
    "# Load the saved model\n",
    "@st.cache_data\n",
    "def load_model():\n",
    "    with open(\"models/trained_model.pkl\", \"rb\") as f:\n",
    "        model = pickle.load(f)\n",
    "        return model"
   ]
  },
  {
   "cell_type": "code",
   "execution_count": 8,
   "id": "5914c016",
   "metadata": {},
   "outputs": [
    {
     "name": "stderr",
     "output_type": "stream",
     "text": [
      "2024-12-20 15:58:56.203 No runtime found, using MemoryCacheStorageManager\n",
      "2024-12-20 15:58:56.204 Thread 'MainThread': missing ScriptRunContext! This warning can be ignored when running in bare mode.\n",
      "2024-12-20 15:58:56.205 Thread 'MainThread': missing ScriptRunContext! This warning can be ignored when running in bare mode.\n",
      "2024-12-20 15:58:56.205 Thread 'MainThread': missing ScriptRunContext! This warning can be ignored when running in bare mode.\n",
      "2024-12-20 15:58:56.713 Thread 'Thread-5': missing ScriptRunContext! This warning can be ignored when running in bare mode.\n",
      "2024-12-20 15:58:56.716 Thread 'Thread-5': missing ScriptRunContext! This warning can be ignored when running in bare mode.\n",
      "2024-12-20 15:59:01.173 Thread 'MainThread': missing ScriptRunContext! This warning can be ignored when running in bare mode.\n",
      "2024-12-20 15:59:01.174 Thread 'MainThread': missing ScriptRunContext! This warning can be ignored when running in bare mode.\n",
      "2024-12-20 15:59:01.175 Thread 'MainThread': missing ScriptRunContext! This warning can be ignored when running in bare mode.\n",
      "2024-12-20 15:59:01.176 Thread 'MainThread': missing ScriptRunContext! This warning can be ignored when running in bare mode.\n",
      "2024-12-20 15:59:01.177 Thread 'MainThread': missing ScriptRunContext! This warning can be ignored when running in bare mode.\n",
      "2024-12-20 15:59:01.177 Thread 'MainThread': missing ScriptRunContext! This warning can be ignored when running in bare mode.\n",
      "2024-12-20 15:59:01.178 Session state does not function when running a script without `streamlit run`\n",
      "2024-12-20 15:59:01.178 Thread 'MainThread': missing ScriptRunContext! This warning can be ignored when running in bare mode.\n",
      "2024-12-20 15:59:01.179 Thread 'MainThread': missing ScriptRunContext! This warning can be ignored when running in bare mode.\n",
      "2024-12-20 15:59:01.180 Thread 'MainThread': missing ScriptRunContext! This warning can be ignored when running in bare mode.\n",
      "2024-12-20 15:59:01.181 Thread 'MainThread': missing ScriptRunContext! This warning can be ignored when running in bare mode.\n",
      "2024-12-20 15:59:01.182 Thread 'MainThread': missing ScriptRunContext! This warning can be ignored when running in bare mode.\n",
      "2024-12-20 15:59:01.182 Thread 'MainThread': missing ScriptRunContext! This warning can be ignored when running in bare mode.\n",
      "2024-12-20 15:59:01.183 Thread 'MainThread': missing ScriptRunContext! This warning can be ignored when running in bare mode.\n",
      "2024-12-20 15:59:01.183 Thread 'MainThread': missing ScriptRunContext! This warning can be ignored when running in bare mode.\n",
      "2024-12-20 15:59:01.183 Thread 'MainThread': missing ScriptRunContext! This warning can be ignored when running in bare mode.\n",
      "2024-12-20 15:59:01.184 Thread 'MainThread': missing ScriptRunContext! This warning can be ignored when running in bare mode.\n",
      "2024-12-20 15:59:01.184 Thread 'MainThread': missing ScriptRunContext! This warning can be ignored when running in bare mode.\n",
      "2024-12-20 15:59:01.185 Thread 'MainThread': missing ScriptRunContext! This warning can be ignored when running in bare mode.\n",
      "2024-12-20 15:59:01.186 Thread 'MainThread': missing ScriptRunContext! This warning can be ignored when running in bare mode.\n",
      "2024-12-20 15:59:01.186 Thread 'MainThread': missing ScriptRunContext! This warning can be ignored when running in bare mode.\n",
      "2024-12-20 15:59:01.187 Thread 'MainThread': missing ScriptRunContext! This warning can be ignored when running in bare mode.\n",
      "2024-12-20 15:59:01.187 Thread 'MainThread': missing ScriptRunContext! This warning can be ignored when running in bare mode.\n",
      "2024-12-20 15:59:01.188 Thread 'MainThread': missing ScriptRunContext! This warning can be ignored when running in bare mode.\n",
      "2024-12-20 15:59:01.188 Thread 'MainThread': missing ScriptRunContext! This warning can be ignored when running in bare mode.\n",
      "2024-12-20 15:59:01.189 Thread 'MainThread': missing ScriptRunContext! This warning can be ignored when running in bare mode.\n",
      "2024-12-20 15:59:01.189 Thread 'MainThread': missing ScriptRunContext! This warning can be ignored when running in bare mode.\n",
      "2024-12-20 15:59:01.190 Thread 'MainThread': missing ScriptRunContext! This warning can be ignored when running in bare mode.\n",
      "2024-12-20 15:59:01.192 Thread 'MainThread': missing ScriptRunContext! This warning can be ignored when running in bare mode.\n",
      "2024-12-20 15:59:01.193 Thread 'MainThread': missing ScriptRunContext! This warning can be ignored when running in bare mode.\n",
      "2024-12-20 15:59:01.195 Thread 'MainThread': missing ScriptRunContext! This warning can be ignored when running in bare mode.\n",
      "2024-12-20 15:59:01.196 Thread 'MainThread': missing ScriptRunContext! This warning can be ignored when running in bare mode.\n"
     ]
    }
   ],
   "source": [
    "model = load_model()\n",
    "# Create inputs for features\n",
    "sepal_length = st.number_input(\"Sepal length\", 0.0, 10.0, 5.1)\n",
    "sepal_width = st.number_input(\"Sepal width\", 0.0, 10.0, 3.5)\n",
    "petal_length = st.number_input(\"Petal length\", 0.0, 10.0, 1.4)\n",
    "petal_width = st.number_input(\"Petal width\", 0.0, 10.0, 0.2)\n",
    "\n",
    "if st.button(\"Predict\"):\n",
    "    X_sample = np.array([[sepal_length, sepal_width, petal_length, petal_width]])\n",
    "    prediction = model.predict(X_sample)\n",
    "    st.write(f\"Predicted class: {prediction[0]}\")"
   ]
  }
 ],
 "metadata": {
  "kernelspec": {
   "display_name": "Iris Poetry Environment",
   "language": "python",
   "name": "poetry-env"
  },
  "language_info": {
   "codemirror_mode": {
    "name": "ipython",
    "version": 3
   },
   "file_extension": ".py",
   "mimetype": "text/x-python",
   "name": "python",
   "nbconvert_exporter": "python",
   "pygments_lexer": "ipython3",
   "version": "3.11.5"
  }
 },
 "nbformat": 4,
 "nbformat_minor": 5
}
