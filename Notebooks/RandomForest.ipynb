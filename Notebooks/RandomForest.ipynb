{
 "cells": [
  {
   "cell_type": "code",
   "execution_count": 1,
   "id": "318a40e0",
   "metadata": {},
   "outputs": [],
   "source": [
    "import mlflow\n",
    "import mlflow.sklearn\n",
    "from sklearn.ensemble import RandomForestClassifier\n",
    "from sklearn.datasets import load_iris\n",
    "from sklearn.model_selection import train_test_split"
   ]
  },
  {
   "cell_type": "code",
   "execution_count": 2,
   "id": "45613dc6",
   "metadata": {},
   "outputs": [
    {
     "name": "stderr",
     "output_type": "stream",
     "text": [
      "WARNING:root:Experiment ID mismatch for exp mlruns. ID recorded as '831974764193713849' in meta data. Experiment will be ignored.\n",
      "NoneType: None\n"
     ]
    }
   ],
   "source": [
    "# Define experiment name\n",
    "experiment_name = \"Iris_Classification_Experiment\"\n",
    "\n",
    "# Set the experiment name\n",
    "mlflow.set_experiment(experiment_name)\n",
    "\n",
    "# Define run name\n",
    "run_name = \"RandomForest_Run_1\""
   ]
  },
  {
   "cell_type": "code",
   "execution_count": 3,
   "id": "252513a6",
   "metadata": {},
   "outputs": [],
   "source": [
    "# Load dataset\n",
    "data = load_iris()\n",
    "X = data.data\n",
    "y = data.target\n",
    "# Split the dataset\n",
    "X_train, X_test, y_train, y_test = train_test_split(X, y, test_size=0.2)"
   ]
  },
  {
   "cell_type": "code",
   "execution_count": 4,
   "id": "236311ca",
   "metadata": {},
   "outputs": [
    {
     "name": "stdout",
     "output_type": "stream",
     "text": [
      "Run ID: 5118bca94b664cb1af97d1b5b26f3b72\n",
      "Logged Parameters:\n",
      "n_estimators: 100\n",
      "Logged Metrics:\n",
      "accuracy: 0.9333333333333333\n",
      "Model Artifact URI: file:///c:/Users/oquach/Documents/OpenClassRoom/home_credit_default_risk/mlruns/568233125999604917/5118bca94b664cb1af97d1b5b26f3b72/artifacts\n"
     ]
    }
   ],
   "source": [
    "# Start the MLflow run with a specific run name\n",
    "with mlflow.start_run(run_name=run_name):\n",
    "\n",
    "    # Model training\n",
    "    model = RandomForestClassifier()\n",
    "    model.fit(X_train, y_train)\n",
    "    \n",
    "    # Create input example (sample input data)\n",
    "    input_example = X_train[0:1]\n",
    "    \n",
    "    # Log the model with input example\n",
    "    mlflow.sklearn.log_model(model, \"random_forest_model\", input_example=input_example)\n",
    "    \n",
    "    # Log parameters (optional)\n",
    "    mlflow.log_param(\"n_estimators\", model.n_estimators)\n",
    "    \n",
    "    # Log metrics (optional)\n",
    "    mlflow.log_metric(\"accuracy\", model.score(X_test, y_test))\n",
    "    \n",
    "    # Print out the current logged details of the MLflow run\n",
    "    run_id = mlflow.active_run().info.run_id\n",
    "    print(f\"Run ID: {run_id}\")\n",
    "    \n",
    "    # Fetch the logged parameters\n",
    "    params = mlflow.get_run(run_id).data.params\n",
    "    print(\"Logged Parameters:\")\n",
    "    for param in params:\n",
    "        print(f\"{param}: {params[param]}\")\n",
    "    \n",
    "    # Fetch the logged metrics\n",
    "    metrics = mlflow.get_run(run_id).data.metrics\n",
    "    print(\"Logged Metrics:\")\n",
    "    for metric in metrics:\n",
    "        print(f\"{metric}: {metrics[metric]}\")\n",
    "    \n",
    "    # Fetch the logged model artifact URI\n",
    "    artifact_uri = mlflow.get_artifact_uri()\n",
    "    print(f\"Model Artifact URI: {artifact_uri}\")\n",
    "\n",
    "# End the run\n",
    "mlflow.end_run()"
   ]
  }
 ],
 "metadata": {
  "kernelspec": {
   "display_name": "Iris Poetry Environment",
   "language": "python",
   "name": "poetry-env"
  },
  "language_info": {
   "codemirror_mode": {
    "name": "ipython",
    "version": 3
   },
   "file_extension": ".py",
   "mimetype": "text/x-python",
   "name": "python",
   "nbconvert_exporter": "python",
   "pygments_lexer": "ipython3",
   "version": "3.11.5"
  }
 },
 "nbformat": 4,
 "nbformat_minor": 5
}
