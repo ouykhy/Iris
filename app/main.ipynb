{
 "cells": [
  {
   "cell_type": "code",
   "execution_count": 2,
   "id": "e1b8995f",
   "metadata": {},
   "outputs": [
    {
     "name": "stdout",
     "output_type": "stream",
     "text": [
      "Collecting fastapi[standard]\n",
      "  Downloading fastapi-0.115.6-py3-none-any.whl.metadata (27 kB)\n",
      "Collecting starlette<0.42.0,>=0.40.0 (from fastapi[standard])\n",
      "  Downloading starlette-0.41.3-py3-none-any.whl.metadata (6.0 kB)\n",
      "Collecting pydantic!=1.8,!=1.8.1,!=2.0.0,!=2.0.1,!=2.1.0,<3.0.0,>=1.7.4 (from fastapi[standard])\n",
      "  Downloading pydantic-2.10.4-py3-none-any.whl.metadata (29 kB)\n",
      "Requirement already satisfied: typing-extensions>=4.8.0 in c:\\users\\oquach\\appdata\\local\\pypoetry\\cache\\virtualenvs\\testing_iris-ndqqnela-py3.11\\lib\\site-packages (from fastapi[standard]) (4.12.2)\n",
      "Collecting fastapi-cli>=0.0.5 (from fastapi-cli[standard]>=0.0.5; extra == \"standard\"->fastapi[standard])\n",
      "  Downloading fastapi_cli-0.0.7-py3-none-any.whl.metadata (6.2 kB)\n",
      "Requirement already satisfied: httpx>=0.23.0 in c:\\users\\oquach\\appdata\\local\\pypoetry\\cache\\virtualenvs\\testing_iris-ndqqnela-py3.11\\lib\\site-packages (from fastapi[standard]) (0.28.1)\n",
      "Requirement already satisfied: jinja2>=2.11.2 in c:\\users\\oquach\\appdata\\local\\pypoetry\\cache\\virtualenvs\\testing_iris-ndqqnela-py3.11\\lib\\site-packages (from fastapi[standard]) (3.1.4)\n",
      "Collecting python-multipart>=0.0.7 (from fastapi[standard])\n",
      "  Downloading python_multipart-0.0.20-py3-none-any.whl.metadata (1.8 kB)\n",
      "Collecting email-validator>=2.0.0 (from fastapi[standard])\n",
      "  Downloading email_validator-2.2.0-py3-none-any.whl.metadata (25 kB)\n",
      "Collecting uvicorn>=0.12.0 (from uvicorn[standard]>=0.12.0; extra == \"standard\"->fastapi[standard])\n",
      "  Downloading uvicorn-0.34.0-py3-none-any.whl.metadata (6.5 kB)\n",
      "Collecting dnspython>=2.0.0 (from email-validator>=2.0.0->fastapi[standard])\n",
      "  Downloading dnspython-2.7.0-py3-none-any.whl.metadata (5.8 kB)\n",
      "Requirement already satisfied: idna>=2.0.0 in c:\\users\\oquach\\appdata\\local\\pypoetry\\cache\\virtualenvs\\testing_iris-ndqqnela-py3.11\\lib\\site-packages (from email-validator>=2.0.0->fastapi[standard]) (3.10)\n",
      "Collecting typer>=0.12.3 (from fastapi-cli>=0.0.5->fastapi-cli[standard]>=0.0.5; extra == \"standard\"->fastapi[standard])\n",
      "  Downloading typer-0.15.1-py3-none-any.whl.metadata (15 kB)\n",
      "Collecting rich-toolkit>=0.11.1 (from fastapi-cli>=0.0.5->fastapi-cli[standard]>=0.0.5; extra == \"standard\"->fastapi[standard])\n",
      "  Downloading rich_toolkit-0.12.0-py3-none-any.whl.metadata (966 bytes)\n",
      "Requirement already satisfied: anyio in c:\\users\\oquach\\appdata\\local\\pypoetry\\cache\\virtualenvs\\testing_iris-ndqqnela-py3.11\\lib\\site-packages (from httpx>=0.23.0->fastapi[standard]) (4.7.0)\n",
      "Requirement already satisfied: certifi in c:\\users\\oquach\\appdata\\local\\pypoetry\\cache\\virtualenvs\\testing_iris-ndqqnela-py3.11\\lib\\site-packages (from httpx>=0.23.0->fastapi[standard]) (2024.12.14)\n",
      "Requirement already satisfied: httpcore==1.* in c:\\users\\oquach\\appdata\\local\\pypoetry\\cache\\virtualenvs\\testing_iris-ndqqnela-py3.11\\lib\\site-packages (from httpx>=0.23.0->fastapi[standard]) (1.0.7)\n",
      "Requirement already satisfied: h11<0.15,>=0.13 in c:\\users\\oquach\\appdata\\local\\pypoetry\\cache\\virtualenvs\\testing_iris-ndqqnela-py3.11\\lib\\site-packages (from httpcore==1.*->httpx>=0.23.0->fastapi[standard]) (0.14.0)\n",
      "Requirement already satisfied: MarkupSafe>=2.0 in c:\\users\\oquach\\appdata\\local\\pypoetry\\cache\\virtualenvs\\testing_iris-ndqqnela-py3.11\\lib\\site-packages (from jinja2>=2.11.2->fastapi[standard]) (3.0.2)\n",
      "Collecting annotated-types>=0.6.0 (from pydantic!=1.8,!=1.8.1,!=2.0.0,!=2.0.1,!=2.1.0,<3.0.0,>=1.7.4->fastapi[standard])\n",
      "  Downloading annotated_types-0.7.0-py3-none-any.whl.metadata (15 kB)\n",
      "Collecting pydantic-core==2.27.2 (from pydantic!=1.8,!=1.8.1,!=2.0.0,!=2.0.1,!=2.1.0,<3.0.0,>=1.7.4->fastapi[standard])\n",
      "  Downloading pydantic_core-2.27.2-cp311-cp311-win_amd64.whl.metadata (6.7 kB)\n",
      "Requirement already satisfied: click>=7.0 in c:\\users\\oquach\\appdata\\local\\pypoetry\\cache\\virtualenvs\\testing_iris-ndqqnela-py3.11\\lib\\site-packages (from uvicorn>=0.12.0->uvicorn[standard]>=0.12.0; extra == \"standard\"->fastapi[standard]) (8.1.7)\n",
      "Requirement already satisfied: colorama>=0.4 in c:\\users\\oquach\\appdata\\local\\pypoetry\\cache\\virtualenvs\\testing_iris-ndqqnela-py3.11\\lib\\site-packages (from uvicorn[standard]>=0.12.0; extra == \"standard\"->fastapi[standard]) (0.4.6)\n",
      "Collecting httptools>=0.6.3 (from uvicorn[standard]>=0.12.0; extra == \"standard\"->fastapi[standard])\n",
      "  Downloading httptools-0.6.4-cp311-cp311-win_amd64.whl.metadata (3.7 kB)\n",
      "Collecting python-dotenv>=0.13 (from uvicorn[standard]>=0.12.0; extra == \"standard\"->fastapi[standard])\n",
      "  Downloading python_dotenv-1.0.1-py3-none-any.whl.metadata (23 kB)\n",
      "Requirement already satisfied: pyyaml>=5.1 in c:\\users\\oquach\\appdata\\local\\pypoetry\\cache\\virtualenvs\\testing_iris-ndqqnela-py3.11\\lib\\site-packages (from uvicorn[standard]>=0.12.0; extra == \"standard\"->fastapi[standard]) (6.0.2)\n",
      "Collecting watchfiles>=0.13 (from uvicorn[standard]>=0.12.0; extra == \"standard\"->fastapi[standard])\n",
      "  Downloading watchfiles-1.0.3-cp311-cp311-win_amd64.whl.metadata (5.0 kB)\n",
      "Collecting websockets>=10.4 (from uvicorn[standard]>=0.12.0; extra == \"standard\"->fastapi[standard])\n",
      "  Downloading websockets-14.1-cp311-cp311-win_amd64.whl.metadata (6.9 kB)\n",
      "Requirement already satisfied: sniffio>=1.1 in c:\\users\\oquach\\appdata\\local\\pypoetry\\cache\\virtualenvs\\testing_iris-ndqqnela-py3.11\\lib\\site-packages (from anyio->httpx>=0.23.0->fastapi[standard]) (1.3.1)\n",
      "Requirement already satisfied: rich>=13.7.1 in c:\\users\\oquach\\appdata\\local\\pypoetry\\cache\\virtualenvs\\testing_iris-ndqqnela-py3.11\\lib\\site-packages (from rich-toolkit>=0.11.1->fastapi-cli>=0.0.5->fastapi-cli[standard]>=0.0.5; extra == \"standard\"->fastapi[standard]) (13.9.4)\n",
      "Collecting shellingham>=1.3.0 (from typer>=0.12.3->fastapi-cli>=0.0.5->fastapi-cli[standard]>=0.0.5; extra == \"standard\"->fastapi[standard])\n",
      "  Using cached shellingham-1.5.4-py2.py3-none-any.whl.metadata (3.5 kB)\n",
      "Requirement already satisfied: markdown-it-py>=2.2.0 in c:\\users\\oquach\\appdata\\local\\pypoetry\\cache\\virtualenvs\\testing_iris-ndqqnela-py3.11\\lib\\site-packages (from rich>=13.7.1->rich-toolkit>=0.11.1->fastapi-cli>=0.0.5->fastapi-cli[standard]>=0.0.5; extra == \"standard\"->fastapi[standard]) (3.0.0)\n",
      "Requirement already satisfied: pygments<3.0.0,>=2.13.0 in c:\\users\\oquach\\appdata\\local\\pypoetry\\cache\\virtualenvs\\testing_iris-ndqqnela-py3.11\\lib\\site-packages (from rich>=13.7.1->rich-toolkit>=0.11.1->fastapi-cli>=0.0.5->fastapi-cli[standard]>=0.0.5; extra == \"standard\"->fastapi[standard]) (2.18.0)\n",
      "Requirement already satisfied: mdurl~=0.1 in c:\\users\\oquach\\appdata\\local\\pypoetry\\cache\\virtualenvs\\testing_iris-ndqqnela-py3.11\\lib\\site-packages (from markdown-it-py>=2.2.0->rich>=13.7.1->rich-toolkit>=0.11.1->fastapi-cli>=0.0.5->fastapi-cli[standard]>=0.0.5; extra == \"standard\"->fastapi[standard]) (0.1.2)\n",
      "Downloading email_validator-2.2.0-py3-none-any.whl (33 kB)\n",
      "Downloading fastapi_cli-0.0.7-py3-none-any.whl (10 kB)\n",
      "Downloading pydantic-2.10.4-py3-none-any.whl (431 kB)\n",
      "   ---------------------------------------- 0.0/431.8 kB ? eta -:--:--\n",
      "   --------------------------------------  430.1/431.8 kB 13.5 MB/s eta 0:00:01\n",
      "   --------------------------------------- 431.8/431.8 kB 13.6 MB/s eta 0:00:00\n",
      "Downloading pydantic_core-2.27.2-cp311-cp311-win_amd64.whl (2.0 MB)\n",
      "   ---------------------------------------- 0.0/2.0 MB ? eta -:--:--\n",
      "   ----------------- ---------------------- 0.9/2.0 MB 18.3 MB/s eta 0:00:01\n",
      "   ---------------------------------------  2.0/2.0 MB 20.9 MB/s eta 0:00:01\n",
      "   ---------------------------------------- 2.0/2.0 MB 21.0 MB/s eta 0:00:00\n",
      "Downloading python_multipart-0.0.20-py3-none-any.whl (24 kB)\n",
      "Downloading starlette-0.41.3-py3-none-any.whl (73 kB)\n",
      "   ---------------------------------------- 0.0/73.2 kB ? eta -:--:--\n",
      "   ---------------------------------------- 73.2/73.2 kB 3.9 MB/s eta 0:00:00\n",
      "Downloading uvicorn-0.34.0-py3-none-any.whl (62 kB)\n",
      "   ---------------------------------------- 0.0/62.3 kB ? eta -:--:--\n",
      "   ---------------------------------------- 62.3/62.3 kB 3.5 MB/s eta 0:00:00\n",
      "Downloading fastapi-0.115.6-py3-none-any.whl (94 kB)\n",
      "   ---------------------------------------- 0.0/94.8 kB ? eta -:--:--\n",
      "   ---------------------------------------- 94.8/94.8 kB 5.3 MB/s eta 0:00:00\n",
      "Downloading annotated_types-0.7.0-py3-none-any.whl (13 kB)\n",
      "Downloading dnspython-2.7.0-py3-none-any.whl (313 kB)\n",
      "   ---------------------------------------- 0.0/313.6 kB ? eta -:--:--\n",
      "   --------------------------------------- 313.6/313.6 kB 19.0 MB/s eta 0:00:00\n",
      "Downloading httptools-0.6.4-cp311-cp311-win_amd64.whl (88 kB)\n",
      "   ---------------------------------------- 0.0/88.6 kB ? eta -:--:--\n",
      "   ---------------------------------------- 88.6/88.6 kB ? eta 0:00:00\n",
      "Downloading python_dotenv-1.0.1-py3-none-any.whl (19 kB)\n",
      "Downloading rich_toolkit-0.12.0-py3-none-any.whl (13 kB)\n",
      "Downloading typer-0.15.1-py3-none-any.whl (44 kB)\n",
      "   ---------------------------------------- 0.0/44.9 kB ? eta -:--:--\n",
      "   ---------------------------------------- 44.9/44.9 kB 2.2 MB/s eta 0:00:00\n",
      "Downloading watchfiles-1.0.3-cp311-cp311-win_amd64.whl (284 kB)\n",
      "   ---------------------------------------- 0.0/284.1 kB ? eta -:--:--\n",
      "   ---------------------------------------- 284.1/284.1 kB ? eta 0:00:00\n",
      "Downloading websockets-14.1-cp311-cp311-win_amd64.whl (163 kB)\n",
      "   ---------------------------------------- 0.0/163.3 kB ? eta -:--:--\n",
      "   ---------------------------------------- 163.3/163.3 kB 9.6 MB/s eta 0:00:00\n",
      "Using cached shellingham-1.5.4-py2.py3-none-any.whl (9.8 kB)\n",
      "Installing collected packages: websockets, shellingham, python-multipart, python-dotenv, pydantic-core, httptools, dnspython, annotated-types, watchfiles, uvicorn, starlette, pydantic, email-validator, typer, rich-toolkit, fastapi, fastapi-cli\n",
      "Successfully installed annotated-types-0.7.0 dnspython-2.7.0 email-validator-2.2.0 fastapi-0.115.6 fastapi-cli-0.0.7 httptools-0.6.4 pydantic-2.10.4 pydantic-core-2.27.2 python-dotenv-1.0.1 python-multipart-0.0.20 rich-toolkit-0.12.0 shellingham-1.5.4 starlette-0.41.3 typer-0.15.1 uvicorn-0.34.0 watchfiles-1.0.3 websockets-14.1\n",
      "Note: you may need to restart the kernel to use updated packages.\n"
     ]
    },
    {
     "name": "stderr",
     "output_type": "stream",
     "text": [
      "\n",
      "[notice] A new release of pip is available: 24.0 -> 24.3.1\n",
      "[notice] To update, run: C:\\Users\\oquach\\AppData\\Local\\pypoetry\\Cache\\virtualenvs\\testing_iris-NDqqneLa-py3.11\\Scripts\\python.exe -m pip install --upgrade pip\n"
     ]
    }
   ],
   "source": [
    "pip install \"fastapi[standard]\""
   ]
  },
  {
   "cell_type": "code",
   "execution_count": 3,
   "id": "64a90d4b",
   "metadata": {},
   "outputs": [],
   "source": [
    "from fastapi import FastAPI, Body\n",
    "import joblib\n",
    "import numpy as np"
   ]
  },
  {
   "cell_type": "code",
   "execution_count": 14,
   "id": "87928dfe",
   "metadata": {},
   "outputs": [],
   "source": [
    "app = FastAPI()\n",
    "\n",
    "# Load the model when the application starts\n",
    "model = joblib.load(\"C:/Users/oquach/Documents/OpenClassRoom/Iris/models/trained_model.pkl\")\n"
   ]
  },
  {
   "cell_type": "code",
   "execution_count": 15,
   "id": "a2ac1099",
   "metadata": {},
   "outputs": [],
   "source": [
    "@app.get(\"/\")\n",
    "def root():\n",
    "    return {\"message\": \"API is running\"}\n",
    "\n",
    "@app.post(\"/predict\")\n",
    "@app.post(\"/predict\")\n",
    "def predict(data: list = Body(...)):\n",
    "    arr = np.array(data)\n",
    "    preds = model.predict(arr).tolist()\n",
    "    return {\"predictions\": preds}"
   ]
  },
  {
   "cell_type": "code",
   "execution_count": null,
   "id": "42dec397",
   "metadata": {},
   "outputs": [],
   "source": []
  }
 ],
 "metadata": {
  "kernelspec": {
   "display_name": "Iris Poetry Environment",
   "language": "python",
   "name": "poetry-env"
  },
  "language_info": {
   "codemirror_mode": {
    "name": "ipython",
    "version": 3
   },
   "file_extension": ".py",
   "mimetype": "text/x-python",
   "name": "python",
   "nbconvert_exporter": "python",
   "pygments_lexer": "ipython3",
   "version": "3.11.5"
  }
 },
 "nbformat": 4,
 "nbformat_minor": 5
}
